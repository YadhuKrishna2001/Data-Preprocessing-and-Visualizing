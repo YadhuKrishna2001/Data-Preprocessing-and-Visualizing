{
  "nbformat": 4,
  "nbformat_minor": 0,
  "metadata": {
    "colab": {
      "provenance": [],
      "authorship_tag": "ABX9TyNAOJOxmIu1zgfFnICyAO4g",
      "include_colab_link": true
    },
    "kernelspec": {
      "name": "python3",
      "display_name": "Python 3"
    },
    "language_info": {
      "name": "python"
    }
  },
  "cells": [
    {
      "cell_type": "markdown",
      "metadata": {
        "id": "view-in-github",
        "colab_type": "text"
      },
      "source": [
        "<a href=\"https://colab.research.google.com/github/YadhuKrishna2001/Data-Preprocessing-and-Visualizing/blob/main/Data_Preprocessing_Visualising.ipynb\" target=\"_parent\"><img src=\"https://colab.research.google.com/assets/colab-badge.svg\" alt=\"Open In Colab\"/></a>"
      ]
    },
    {
      "cell_type": "markdown",
      "source": [
        "**DATA PREPROCESSIING AND VISUALIZATION(EDA)**\n"
      ],
      "metadata": {
        "id": "rzc2uhFnB4g3"
      }
    },
    {
      "cell_type": "markdown",
      "source": [
        "IMPORTING NECESSARY LIBRARIES"
      ],
      "metadata": {
        "id": "Cg7Qu52IUpo7"
      }
    },
    {
      "cell_type": "code",
      "source": [
        "#IMPORTING THE LIBRARIES\n",
        "import pandas as pd\n",
        "import numpy as np\n",
        "import matplotlib.pyplot as plt\n",
        "import seaborn as sns\n",
        "from sklearn.model_selection import train_test_split\n",
        "import missingno as msno\n",
        "\n"
      ],
      "metadata": {
        "id": "zCI0myTeUzCR"
      },
      "execution_count": null,
      "outputs": []
    },
    {
      "cell_type": "code",
      "execution_count": null,
      "metadata": {
        "id": "aCkCVicjAGdK"
      },
      "outputs": [],
      "source": []
    },
    {
      "cell_type": "markdown",
      "source": [
        "IMPORTING DATASETS"
      ],
      "metadata": {
        "id": "83I138YoV33K"
      }
    },
    {
      "cell_type": "code",
      "source": [
        "#IMPORTING THE DATASET\n",
        "dataset1=pd.read_csv('/content/Flipkart_Mobiles.csv')\n",
        "dataset2=pd.read_csv('/content/Flipkart_mobile_brands_scraped_data.csv')\n"
      ],
      "metadata": {
        "id": "UkhRGCsaV9Jf"
      },
      "execution_count": null,
      "outputs": []
    },
    {
      "cell_type": "markdown",
      "source": [
        "THE NUMBER OF ROWS AND COLUMS OF THE DATAFRAME"
      ],
      "metadata": {
        "id": "OTcLBDNjb80b"
      }
    },
    {
      "cell_type": "code",
      "source": [
        "#SHOWING THE NUMBER OF ROWS AND COLUMNS\n",
        "dataset1.shape,dataset2.shape\n",
        "\n",
        "\n",
        "\n"
      ],
      "metadata": {
        "colab": {
          "base_uri": "https://localhost:8080/"
        },
        "id": "9J_CPGiIWgHc",
        "outputId": "87cf0e06-a933-47a4-86a5-79261701264c"
      },
      "execution_count": null,
      "outputs": [
        {
          "output_type": "execute_result",
          "data": {
            "text/plain": [
              "((3114, 8), (2647, 8))"
            ]
          },
          "metadata": {},
          "execution_count": 5
        }
      ]
    },
    {
      "cell_type": "markdown",
      "source": [
        "THE FIRST 5 ROW OF DATASET\n",
        "\n"
      ],
      "metadata": {
        "id": "cK5y-GMkcWZm"
      }
    },
    {
      "cell_type": "code",
      "source": [
        "#DISPLAYING THE FIRST FIVE ROWS\n",
        "dataset1.head(),dataset2.head()\n",
        "\n"
      ],
      "metadata": {
        "colab": {
          "base_uri": "https://localhost:8080/"
        },
        "id": "3lzudCKNccFv",
        "outputId": "20fe1071-42f7-4a85-a4bf-8be0962da327"
      },
      "execution_count": null,
      "outputs": [
        {
          "output_type": "execute_result",
          "data": {
            "text/plain": [
              "(  Brand Model            Color Memory Storage  Rating  Selling Price  \\\n",
              " 0  OPPO   A53  Moonlight Black   4 GB   64 GB     4.5          11990   \n",
              " 1  OPPO   A53       Mint Cream   4 GB   64 GB     4.5          11990   \n",
              " 2  OPPO   A53  Moonlight Black   6 GB  128 GB     4.3          13990   \n",
              " 3  OPPO   A53       Mint Cream   6 GB  128 GB     4.3          13990   \n",
              " 4  OPPO   A53   Electric Black   4 GB   64 GB     4.5          11990   \n",
              " \n",
              "    Original Price  \n",
              " 0           15990  \n",
              " 1           15990  \n",
              " 2           17990  \n",
              " 3           17990  \n",
              " 4           15990  ,\n",
              "   Brand Model            Color Memory Storage  Rating  Selling Price  \\\n",
              " 0  OPPO   A53  Moonlight Black   4 GB   64 GB     4.5        11990.0   \n",
              " 1  OPPO   A53       Mint Cream   4 GB   64 GB     4.5        11990.0   \n",
              " 2  OPPO   A53  Moonlight Black   6 GB  128 GB     4.3        13990.0   \n",
              " 3  OPPO   A53       Mint Cream   6 GB  128 GB     4.3        13990.0   \n",
              " 4  OPPO   A53   Electric Black   4 GB   64 GB     4.5        11990.0   \n",
              " \n",
              "    Original Price  \n",
              " 0         15990.0  \n",
              " 1         15990.0  \n",
              " 2         17990.0  \n",
              " 3         17990.0  \n",
              " 4         15990.0  )"
            ]
          },
          "metadata": {},
          "execution_count": 6
        }
      ]
    },
    {
      "cell_type": "markdown",
      "source": [
        "THE LAST 5 ROW OF DATASET\n"
      ],
      "metadata": {
        "id": "O1swG6zzcwD7"
      }
    },
    {
      "cell_type": "code",
      "source": [
        "#DISPLAYING THE LAST FIVE ROWS\n",
        "dataset1.tail(),dataset2.tail()\n",
        "\n"
      ],
      "metadata": {
        "colab": {
          "base_uri": "https://localhost:8080/"
        },
        "id": "M5KQY5aAcwvP",
        "outputId": "1542e4e0-723c-4e87-c553-1920eacdde10"
      },
      "execution_count": null,
      "outputs": [
        {
          "output_type": "execute_result",
          "data": {
            "text/plain": [
              "(        Brand   Model          Color Memory Storage  Rating  Selling Price  \\\n",
              " 3109  SAMSUNG  M52 5G  Blazing Black   6 GB  128 GB     4.3          25990   \n",
              " 3110  SAMSUNG  M52 5G       Icy Blue   6 GB  128 GB     4.3          25489   \n",
              " 3111  SAMSUNG  M52 5G       Icy Blue   8 GB  128 GB     4.3          27239   \n",
              " 3112  SAMSUNG  M52 5G    Slate Black   8 GB  128 GB     4.2          22989   \n",
              " 3113  SAMSUNG  M52 5G       Sky Blue   8 GB  128 GB     4.2          20350   \n",
              " \n",
              "       Original Price  \n",
              " 3109           25990  \n",
              " 3110           28449  \n",
              " 3111           31489  \n",
              " 3112           22989  \n",
              " 3113           22595  ,\n",
              "        Brand      Model         Color Memory Storage  Rating  Selling Price  \\\n",
              " 2642  Xiaomi  Redmi Y3       Bold Red   4 GB   64 GB     4.3        12999.0   \n",
              " 2643  Xiaomi  Redmi Y3   Elegant Blue   3 GB   32 GB     4.3         9450.0   \n",
              " 2644  Xiaomi  Redmi Y3   Elegant Blue   4 GB   64 GB     4.2        12999.0   \n",
              " 2645  Xiaomi  Redmi Y3    Prime Black   3 GB   32 GB     4.2         9950.0   \n",
              " 2646  Xiaomi  Redmi Y3    Prime Black   4 GB   64 GB     4.3        12499.0   \n",
              " \n",
              "       Original Price  \n",
              " 2642         13999.0  \n",
              " 2643             NaN  \n",
              " 2644             NaN  \n",
              " 2645             NaN  \n",
              " 2646         13999.0  )"
            ]
          },
          "metadata": {},
          "execution_count": 7
        }
      ]
    },
    {
      "cell_type": "markdown",
      "source": [
        "DISPLAY DATASET DESCRIPTION BEFORE"
      ],
      "metadata": {
        "id": "d6UJhUFiArFz"
      }
    },
    {
      "cell_type": "code",
      "source": [
        "#DISPLATING DATASET1\n",
        "print(\"\\t DATASET 1\\t\")\n",
        "print(\"\\nStatical description of dataset 1: \")\n",
        "print(f\"\\n{dataset1.describe()}\")\n",
        "print(f\"\\Missing value analysis of dataset 1:\")\n",
        "print(f\"\\n{dataset1.isnull().sum()}\")\n",
        "\n"
      ],
      "metadata": {
        "colab": {
          "base_uri": "https://localhost:8080/"
        },
        "id": "ZgjPxQIc9r1A",
        "outputId": "bbefbbd7-5e6f-44c3-bea1-cffa88f9c95d"
      },
      "execution_count": null,
      "outputs": [
        {
          "output_type": "stream",
          "name": "stdout",
          "text": [
            "\t DATASET 1\t\n",
            "\n",
            "Statical description of dataset 1: \n",
            "\n",
            "            Rating  Selling Price  Original Price\n",
            "count  2970.000000    3114.000000     3114.000000\n",
            "mean      4.243098   26436.625562    28333.473025\n",
            "std       0.271991   30066.892622    31525.599889\n",
            "min       2.300000    1000.000000     1000.000000\n",
            "25%       4.100000    9990.000000    10030.250000\n",
            "50%       4.300000   15000.000000    16889.500000\n",
            "75%       4.400000   28999.000000    31500.000000\n",
            "max       5.000000  179900.000000   189999.000000\n",
            "\\Missing value analysis of dataset 1:\n",
            "\n",
            "Brand               0\n",
            "Model               0\n",
            "Color               0\n",
            "Memory             43\n",
            "Storage            39\n",
            "Rating            144\n",
            "Selling Price       0\n",
            "Original Price      0\n",
            "dtype: int64\n"
          ]
        }
      ]
    },
    {
      "cell_type": "markdown",
      "source": [
        "SPLITTING DATASET IN TO TWO"
      ],
      "metadata": {
        "id": "rJe7yi52A44x"
      }
    },
    {
      "cell_type": "code",
      "source": [
        "#SPLITTING OF DATASET\n",
        "split_ratio = 0.7\n",
        "split_index = int(len(dataset1) * split_ratio)\n",
        "#splitting\n",
        "dataset1 = dataset1.iloc[:split_index]\n",
        "dataset2 = dataset2.iloc[split_index:]\n",
        "#save to sper csv\n",
        "dataset1.to_csv('dataset_part1.csv', index=False)\n",
        "dataset2.to_csv('dataset_part2.csv', index=False)\n",
        "\n"
      ],
      "metadata": {
        "id": "NPQE0SL9A36g"
      },
      "execution_count": null,
      "outputs": []
    },
    {
      "cell_type": "markdown",
      "source": [
        "THE DATATYPE OF EACH COLUMN"
      ],
      "metadata": {
        "id": "wEnmDQ6DJ0il"
      }
    },
    {
      "cell_type": "code",
      "source": [
        "#DISPLAYING THE DATA TYPE\n",
        "print(dataset1.dtypes)"
      ],
      "metadata": {
        "colab": {
          "base_uri": "https://localhost:8080/"
        },
        "id": "7YJbojSKJcC4",
        "outputId": "966a6e26-66d2-4ef9-89cd-03d179eaf245"
      },
      "execution_count": null,
      "outputs": [
        {
          "output_type": "stream",
          "name": "stdout",
          "text": [
            "Brand              object\n",
            "Model              object\n",
            "Color              object\n",
            "Memory             object\n",
            "Storage            object\n",
            "Rating            float64\n",
            "Selling Price       int64\n",
            "Original Price      int64\n",
            "dtype: object\n"
          ]
        }
      ]
    },
    {
      "cell_type": "markdown",
      "source": [
        "DESCRIBE"
      ],
      "metadata": {
        "id": "vPzq2aboKxTE"
      }
    },
    {
      "cell_type": "code",
      "source": [
        "#TO DISPLAY THE MIN MEAN MAX STD\n",
        "dataset1.describe(include= \"all\"),dataset1.describe(include= \"all\"),"
      ],
      "metadata": {
        "colab": {
          "base_uri": "https://localhost:8080/"
        },
        "id": "vAKSJw2YKD5s",
        "outputId": "ea08c153-fd95-409e-ee21-cbf26b67f13c"
      },
      "execution_count": null,
      "outputs": [
        {
          "output_type": "execute_result",
          "data": {
            "text/plain": [
              "(          Brand       Model  Color Memory Storage       Rating  Selling Price  \\\n",
              " count      3114        3114   3114   3071    3075  2970.000000    3114.000000   \n",
              " unique       17         914    639     26      26          NaN            NaN   \n",
              " top     SAMSUNG  iPhone 11   Black   4 GB   64 GB          NaN            NaN   \n",
              " freq        719          36    489    750     774          NaN            NaN   \n",
              " mean        NaN         NaN    NaN    NaN     NaN     4.243098   26436.625562   \n",
              " std         NaN         NaN    NaN    NaN     NaN     0.271991   30066.892622   \n",
              " min         NaN         NaN    NaN    NaN     NaN     2.300000    1000.000000   \n",
              " 25%         NaN         NaN    NaN    NaN     NaN     4.100000    9990.000000   \n",
              " 50%         NaN         NaN    NaN    NaN     NaN     4.300000   15000.000000   \n",
              " 75%         NaN         NaN    NaN    NaN     NaN     4.400000   28999.000000   \n",
              " max         NaN         NaN    NaN    NaN     NaN     5.000000  179900.000000   \n",
              " \n",
              "         Original Price  \n",
              " count      3114.000000  \n",
              " unique             NaN  \n",
              " top                NaN  \n",
              " freq               NaN  \n",
              " mean      28333.473025  \n",
              " std       31525.599889  \n",
              " min        1000.000000  \n",
              " 25%       10030.250000  \n",
              " 50%       16889.500000  \n",
              " 75%       31500.000000  \n",
              " max      189999.000000  ,\n",
              "           Brand       Model  Color Memory Storage       Rating  Selling Price  \\\n",
              " count      2647        2645   2505   2605    2568  2647.000000    2644.000000   \n",
              " unique       16         773    531     31      31          NaN            NaN   \n",
              " top     SAMSUNG  iPhone 11   Black   4 GB   64 GB          NaN            NaN   \n",
              " freq        695          36    328    631     641          NaN            NaN   \n",
              " mean        NaN         NaN    NaN    NaN     NaN     4.001700   26461.362330   \n",
              " std         NaN         NaN    NaN    NaN     NaN     0.997499   29833.135164   \n",
              " min         NaN         NaN    NaN    NaN     NaN     0.000000    1000.000000   \n",
              " 25%         NaN         NaN    NaN    NaN     NaN     4.000000    9490.000000   \n",
              " 50%         NaN         NaN    NaN    NaN     NaN     4.300000   14999.000000   \n",
              " 75%         NaN         NaN    NaN    NaN     NaN     4.400000   29998.250000   \n",
              " max         NaN         NaN    NaN    NaN     NaN     5.000000  179900.000000   \n",
              " \n",
              "         Original Price  \n",
              " count       969.000000  \n",
              " unique             NaN  \n",
              " top                NaN  \n",
              " freq               NaN  \n",
              " mean      29852.605779  \n",
              " std       27659.141051  \n",
              " min        1599.000000  \n",
              " 25%       12999.000000  \n",
              " 50%       18999.000000  \n",
              " 75%       34999.000000  \n",
              " max      189999.000000  )"
            ]
          },
          "metadata": {},
          "execution_count": 8
        }
      ]
    },
    {
      "cell_type": "markdown",
      "source": [
        "## DATA **CLEANING**"
      ],
      "metadata": {
        "id": "sJ9vVMqUK0jM"
      }
    },
    {
      "cell_type": "markdown",
      "source": [
        "DATASET1"
      ],
      "metadata": {
        "id": "_L7C5v0nPhv8"
      }
    },
    {
      "cell_type": "code",
      "source": [
        "#TO DISPLAY THE MISSING DATA\n",
        "missing_data = dataset1.isnull()\n",
        "missing_data.head(10)"
      ],
      "metadata": {
        "colab": {
          "base_uri": "https://localhost:8080/",
          "height": 380
        },
        "id": "V6agPEI2K7YJ",
        "outputId": "60002dff-39fb-4a0b-a73d-61eb857c9c2a"
      },
      "execution_count": null,
      "outputs": [
        {
          "output_type": "execute_result",
          "data": {
            "text/plain": [
              "   Brand  Model  Color  Memory  Storage  Rating  Selling Price  Original Price\n",
              "0  False  False  False   False    False   False          False           False\n",
              "1  False  False  False   False    False   False          False           False\n",
              "2  False  False  False   False    False   False          False           False\n",
              "3  False  False  False   False    False   False          False           False\n",
              "4  False  False  False   False    False   False          False           False\n",
              "5  False  False  False   False    False   False          False           False\n",
              "6  False  False  False   False    False   False          False           False\n",
              "7  False  False  False   False    False   False          False           False\n",
              "8  False  False  False   False    False   False          False           False\n",
              "9  False  False  False   False    False   False          False           False"
            ],
            "text/html": [
              "\n",
              "  <div id=\"df-dde0567c-ce86-42bd-b525-adab117e8cc3\" class=\"colab-df-container\">\n",
              "    <div>\n",
              "<style scoped>\n",
              "    .dataframe tbody tr th:only-of-type {\n",
              "        vertical-align: middle;\n",
              "    }\n",
              "\n",
              "    .dataframe tbody tr th {\n",
              "        vertical-align: top;\n",
              "    }\n",
              "\n",
              "    .dataframe thead th {\n",
              "        text-align: right;\n",
              "    }\n",
              "</style>\n",
              "<table border=\"1\" class=\"dataframe\">\n",
              "  <thead>\n",
              "    <tr style=\"text-align: right;\">\n",
              "      <th></th>\n",
              "      <th>Brand</th>\n",
              "      <th>Model</th>\n",
              "      <th>Color</th>\n",
              "      <th>Memory</th>\n",
              "      <th>Storage</th>\n",
              "      <th>Rating</th>\n",
              "      <th>Selling Price</th>\n",
              "      <th>Original Price</th>\n",
              "    </tr>\n",
              "  </thead>\n",
              "  <tbody>\n",
              "    <tr>\n",
              "      <th>0</th>\n",
              "      <td>False</td>\n",
              "      <td>False</td>\n",
              "      <td>False</td>\n",
              "      <td>False</td>\n",
              "      <td>False</td>\n",
              "      <td>False</td>\n",
              "      <td>False</td>\n",
              "      <td>False</td>\n",
              "    </tr>\n",
              "    <tr>\n",
              "      <th>1</th>\n",
              "      <td>False</td>\n",
              "      <td>False</td>\n",
              "      <td>False</td>\n",
              "      <td>False</td>\n",
              "      <td>False</td>\n",
              "      <td>False</td>\n",
              "      <td>False</td>\n",
              "      <td>False</td>\n",
              "    </tr>\n",
              "    <tr>\n",
              "      <th>2</th>\n",
              "      <td>False</td>\n",
              "      <td>False</td>\n",
              "      <td>False</td>\n",
              "      <td>False</td>\n",
              "      <td>False</td>\n",
              "      <td>False</td>\n",
              "      <td>False</td>\n",
              "      <td>False</td>\n",
              "    </tr>\n",
              "    <tr>\n",
              "      <th>3</th>\n",
              "      <td>False</td>\n",
              "      <td>False</td>\n",
              "      <td>False</td>\n",
              "      <td>False</td>\n",
              "      <td>False</td>\n",
              "      <td>False</td>\n",
              "      <td>False</td>\n",
              "      <td>False</td>\n",
              "    </tr>\n",
              "    <tr>\n",
              "      <th>4</th>\n",
              "      <td>False</td>\n",
              "      <td>False</td>\n",
              "      <td>False</td>\n",
              "      <td>False</td>\n",
              "      <td>False</td>\n",
              "      <td>False</td>\n",
              "      <td>False</td>\n",
              "      <td>False</td>\n",
              "    </tr>\n",
              "    <tr>\n",
              "      <th>5</th>\n",
              "      <td>False</td>\n",
              "      <td>False</td>\n",
              "      <td>False</td>\n",
              "      <td>False</td>\n",
              "      <td>False</td>\n",
              "      <td>False</td>\n",
              "      <td>False</td>\n",
              "      <td>False</td>\n",
              "    </tr>\n",
              "    <tr>\n",
              "      <th>6</th>\n",
              "      <td>False</td>\n",
              "      <td>False</td>\n",
              "      <td>False</td>\n",
              "      <td>False</td>\n",
              "      <td>False</td>\n",
              "      <td>False</td>\n",
              "      <td>False</td>\n",
              "      <td>False</td>\n",
              "    </tr>\n",
              "    <tr>\n",
              "      <th>7</th>\n",
              "      <td>False</td>\n",
              "      <td>False</td>\n",
              "      <td>False</td>\n",
              "      <td>False</td>\n",
              "      <td>False</td>\n",
              "      <td>False</td>\n",
              "      <td>False</td>\n",
              "      <td>False</td>\n",
              "    </tr>\n",
              "    <tr>\n",
              "      <th>8</th>\n",
              "      <td>False</td>\n",
              "      <td>False</td>\n",
              "      <td>False</td>\n",
              "      <td>False</td>\n",
              "      <td>False</td>\n",
              "      <td>False</td>\n",
              "      <td>False</td>\n",
              "      <td>False</td>\n",
              "    </tr>\n",
              "    <tr>\n",
              "      <th>9</th>\n",
              "      <td>False</td>\n",
              "      <td>False</td>\n",
              "      <td>False</td>\n",
              "      <td>False</td>\n",
              "      <td>False</td>\n",
              "      <td>False</td>\n",
              "      <td>False</td>\n",
              "      <td>False</td>\n",
              "    </tr>\n",
              "  </tbody>\n",
              "</table>\n",
              "</div>\n",
              "    <div class=\"colab-df-buttons\">\n",
              "\n",
              "  <div class=\"colab-df-container\">\n",
              "    <button class=\"colab-df-convert\" onclick=\"convertToInteractive('df-dde0567c-ce86-42bd-b525-adab117e8cc3')\"\n",
              "            title=\"Convert this dataframe to an interactive table.\"\n",
              "            style=\"display:none;\">\n",
              "\n",
              "  <svg xmlns=\"http://www.w3.org/2000/svg\" height=\"24px\" viewBox=\"0 -960 960 960\">\n",
              "    <path d=\"M120-120v-720h720v720H120Zm60-500h600v-160H180v160Zm220 220h160v-160H400v160Zm0 220h160v-160H400v160ZM180-400h160v-160H180v160Zm440 0h160v-160H620v160ZM180-180h160v-160H180v160Zm440 0h160v-160H620v160Z\"/>\n",
              "  </svg>\n",
              "    </button>\n",
              "\n",
              "  <style>\n",
              "    .colab-df-container {\n",
              "      display:flex;\n",
              "      gap: 12px;\n",
              "    }\n",
              "\n",
              "    .colab-df-convert {\n",
              "      background-color: #E8F0FE;\n",
              "      border: none;\n",
              "      border-radius: 50%;\n",
              "      cursor: pointer;\n",
              "      display: none;\n",
              "      fill: #1967D2;\n",
              "      height: 32px;\n",
              "      padding: 0 0 0 0;\n",
              "      width: 32px;\n",
              "    }\n",
              "\n",
              "    .colab-df-convert:hover {\n",
              "      background-color: #E2EBFA;\n",
              "      box-shadow: 0px 1px 2px rgba(60, 64, 67, 0.3), 0px 1px 3px 1px rgba(60, 64, 67, 0.15);\n",
              "      fill: #174EA6;\n",
              "    }\n",
              "\n",
              "    .colab-df-buttons div {\n",
              "      margin-bottom: 4px;\n",
              "    }\n",
              "\n",
              "    [theme=dark] .colab-df-convert {\n",
              "      background-color: #3B4455;\n",
              "      fill: #D2E3FC;\n",
              "    }\n",
              "\n",
              "    [theme=dark] .colab-df-convert:hover {\n",
              "      background-color: #434B5C;\n",
              "      box-shadow: 0px 1px 3px 1px rgba(0, 0, 0, 0.15);\n",
              "      filter: drop-shadow(0px 1px 2px rgba(0, 0, 0, 0.3));\n",
              "      fill: #FFFFFF;\n",
              "    }\n",
              "  </style>\n",
              "\n",
              "    <script>\n",
              "      const buttonEl =\n",
              "        document.querySelector('#df-dde0567c-ce86-42bd-b525-adab117e8cc3 button.colab-df-convert');\n",
              "      buttonEl.style.display =\n",
              "        google.colab.kernel.accessAllowed ? 'block' : 'none';\n",
              "\n",
              "      async function convertToInteractive(key) {\n",
              "        const element = document.querySelector('#df-dde0567c-ce86-42bd-b525-adab117e8cc3');\n",
              "        const dataTable =\n",
              "          await google.colab.kernel.invokeFunction('convertToInteractive',\n",
              "                                                    [key], {});\n",
              "        if (!dataTable) return;\n",
              "\n",
              "        const docLinkHtml = 'Like what you see? Visit the ' +\n",
              "          '<a target=\"_blank\" href=https://colab.research.google.com/notebooks/data_table.ipynb>data table notebook</a>'\n",
              "          + ' to learn more about interactive tables.';\n",
              "        element.innerHTML = '';\n",
              "        dataTable['output_type'] = 'display_data';\n",
              "        await google.colab.output.renderOutput(dataTable, element);\n",
              "        const docLink = document.createElement('div');\n",
              "        docLink.innerHTML = docLinkHtml;\n",
              "        element.appendChild(docLink);\n",
              "      }\n",
              "    </script>\n",
              "  </div>\n",
              "\n",
              "\n",
              "<div id=\"df-b8f82852-29c5-40de-8f3f-4bd88b78d533\">\n",
              "  <button class=\"colab-df-quickchart\" onclick=\"quickchart('df-b8f82852-29c5-40de-8f3f-4bd88b78d533')\"\n",
              "            title=\"Suggest charts\"\n",
              "            style=\"display:none;\">\n",
              "\n",
              "<svg xmlns=\"http://www.w3.org/2000/svg\" height=\"24px\"viewBox=\"0 0 24 24\"\n",
              "     width=\"24px\">\n",
              "    <g>\n",
              "        <path d=\"M19 3H5c-1.1 0-2 .9-2 2v14c0 1.1.9 2 2 2h14c1.1 0 2-.9 2-2V5c0-1.1-.9-2-2-2zM9 17H7v-7h2v7zm4 0h-2V7h2v10zm4 0h-2v-4h2v4z\"/>\n",
              "    </g>\n",
              "</svg>\n",
              "  </button>\n",
              "\n",
              "<style>\n",
              "  .colab-df-quickchart {\n",
              "      --bg-color: #E8F0FE;\n",
              "      --fill-color: #1967D2;\n",
              "      --hover-bg-color: #E2EBFA;\n",
              "      --hover-fill-color: #174EA6;\n",
              "      --disabled-fill-color: #AAA;\n",
              "      --disabled-bg-color: #DDD;\n",
              "  }\n",
              "\n",
              "  [theme=dark] .colab-df-quickchart {\n",
              "      --bg-color: #3B4455;\n",
              "      --fill-color: #D2E3FC;\n",
              "      --hover-bg-color: #434B5C;\n",
              "      --hover-fill-color: #FFFFFF;\n",
              "      --disabled-bg-color: #3B4455;\n",
              "      --disabled-fill-color: #666;\n",
              "  }\n",
              "\n",
              "  .colab-df-quickchart {\n",
              "    background-color: var(--bg-color);\n",
              "    border: none;\n",
              "    border-radius: 50%;\n",
              "    cursor: pointer;\n",
              "    display: none;\n",
              "    fill: var(--fill-color);\n",
              "    height: 32px;\n",
              "    padding: 0;\n",
              "    width: 32px;\n",
              "  }\n",
              "\n",
              "  .colab-df-quickchart:hover {\n",
              "    background-color: var(--hover-bg-color);\n",
              "    box-shadow: 0 1px 2px rgba(60, 64, 67, 0.3), 0 1px 3px 1px rgba(60, 64, 67, 0.15);\n",
              "    fill: var(--button-hover-fill-color);\n",
              "  }\n",
              "\n",
              "  .colab-df-quickchart-complete:disabled,\n",
              "  .colab-df-quickchart-complete:disabled:hover {\n",
              "    background-color: var(--disabled-bg-color);\n",
              "    fill: var(--disabled-fill-color);\n",
              "    box-shadow: none;\n",
              "  }\n",
              "\n",
              "  .colab-df-spinner {\n",
              "    border: 2px solid var(--fill-color);\n",
              "    border-color: transparent;\n",
              "    border-bottom-color: var(--fill-color);\n",
              "    animation:\n",
              "      spin 1s steps(1) infinite;\n",
              "  }\n",
              "\n",
              "  @keyframes spin {\n",
              "    0% {\n",
              "      border-color: transparent;\n",
              "      border-bottom-color: var(--fill-color);\n",
              "      border-left-color: var(--fill-color);\n",
              "    }\n",
              "    20% {\n",
              "      border-color: transparent;\n",
              "      border-left-color: var(--fill-color);\n",
              "      border-top-color: var(--fill-color);\n",
              "    }\n",
              "    30% {\n",
              "      border-color: transparent;\n",
              "      border-left-color: var(--fill-color);\n",
              "      border-top-color: var(--fill-color);\n",
              "      border-right-color: var(--fill-color);\n",
              "    }\n",
              "    40% {\n",
              "      border-color: transparent;\n",
              "      border-right-color: var(--fill-color);\n",
              "      border-top-color: var(--fill-color);\n",
              "    }\n",
              "    60% {\n",
              "      border-color: transparent;\n",
              "      border-right-color: var(--fill-color);\n",
              "    }\n",
              "    80% {\n",
              "      border-color: transparent;\n",
              "      border-right-color: var(--fill-color);\n",
              "      border-bottom-color: var(--fill-color);\n",
              "    }\n",
              "    90% {\n",
              "      border-color: transparent;\n",
              "      border-bottom-color: var(--fill-color);\n",
              "    }\n",
              "  }\n",
              "</style>\n",
              "\n",
              "  <script>\n",
              "    async function quickchart(key) {\n",
              "      const quickchartButtonEl =\n",
              "        document.querySelector('#' + key + ' button');\n",
              "      quickchartButtonEl.disabled = true;  // To prevent multiple clicks.\n",
              "      quickchartButtonEl.classList.add('colab-df-spinner');\n",
              "      try {\n",
              "        const charts = await google.colab.kernel.invokeFunction(\n",
              "            'suggestCharts', [key], {});\n",
              "      } catch (error) {\n",
              "        console.error('Error during call to suggestCharts:', error);\n",
              "      }\n",
              "      quickchartButtonEl.classList.remove('colab-df-spinner');\n",
              "      quickchartButtonEl.classList.add('colab-df-quickchart-complete');\n",
              "    }\n",
              "    (() => {\n",
              "      let quickchartButtonEl =\n",
              "        document.querySelector('#df-b8f82852-29c5-40de-8f3f-4bd88b78d533 button');\n",
              "      quickchartButtonEl.style.display =\n",
              "        google.colab.kernel.accessAllowed ? 'block' : 'none';\n",
              "    })();\n",
              "  </script>\n",
              "</div>\n",
              "\n",
              "    </div>\n",
              "  </div>\n"
            ],
            "application/vnd.google.colaboratory.intrinsic+json": {
              "type": "dataframe",
              "variable_name": "missing_data",
              "summary": "{\n  \"name\": \"missing_data\",\n  \"rows\": 3114,\n  \"fields\": [\n    {\n      \"column\": \"Brand\",\n      \"properties\": {\n        \"dtype\": \"boolean\",\n        \"num_unique_values\": 1,\n        \"samples\": [\n          false\n        ],\n        \"semantic_type\": \"\",\n        \"description\": \"\"\n      }\n    },\n    {\n      \"column\": \"Model\",\n      \"properties\": {\n        \"dtype\": \"boolean\",\n        \"num_unique_values\": 1,\n        \"samples\": [\n          false\n        ],\n        \"semantic_type\": \"\",\n        \"description\": \"\"\n      }\n    },\n    {\n      \"column\": \"Color\",\n      \"properties\": {\n        \"dtype\": \"boolean\",\n        \"num_unique_values\": 1,\n        \"samples\": [\n          false\n        ],\n        \"semantic_type\": \"\",\n        \"description\": \"\"\n      }\n    },\n    {\n      \"column\": \"Memory\",\n      \"properties\": {\n        \"dtype\": \"boolean\",\n        \"num_unique_values\": 2,\n        \"samples\": [\n          true\n        ],\n        \"semantic_type\": \"\",\n        \"description\": \"\"\n      }\n    },\n    {\n      \"column\": \"Storage\",\n      \"properties\": {\n        \"dtype\": \"boolean\",\n        \"num_unique_values\": 2,\n        \"samples\": [\n          true\n        ],\n        \"semantic_type\": \"\",\n        \"description\": \"\"\n      }\n    },\n    {\n      \"column\": \"Rating\",\n      \"properties\": {\n        \"dtype\": \"boolean\",\n        \"num_unique_values\": 2,\n        \"samples\": [\n          true\n        ],\n        \"semantic_type\": \"\",\n        \"description\": \"\"\n      }\n    },\n    {\n      \"column\": \"Selling Price\",\n      \"properties\": {\n        \"dtype\": \"boolean\",\n        \"num_unique_values\": 1,\n        \"samples\": [\n          false\n        ],\n        \"semantic_type\": \"\",\n        \"description\": \"\"\n      }\n    },\n    {\n      \"column\": \"Original Price\",\n      \"properties\": {\n        \"dtype\": \"boolean\",\n        \"num_unique_values\": 1,\n        \"samples\": [\n          false\n        ],\n        \"semantic_type\": \"\",\n        \"description\": \"\"\n      }\n    }\n  ]\n}"
            }
          },
          "metadata": {},
          "execution_count": 9
        }
      ]
    },
    {
      "cell_type": "markdown",
      "source": [
        "DATASET2"
      ],
      "metadata": {
        "id": "VDFoeYASPlla"
      }
    },
    {
      "cell_type": "code",
      "source": [
        "#TO DISPLAY THE MISSING DATA\n",
        "missing_data = dataset2.isnull()\n",
        "missing_data.head(10)"
      ],
      "metadata": {
        "colab": {
          "base_uri": "https://localhost:8080/",
          "height": 380
        },
        "id": "Mdow-73SO_ZG",
        "outputId": "7788d53b-1950-4531-8d82-f21542418cb3"
      },
      "execution_count": null,
      "outputs": [
        {
          "output_type": "execute_result",
          "data": {
            "text/plain": [
              "      Brand  Model  Color  Memory  Storage  Rating  Selling Price  \\\n",
              "2179  False  False  False   False    False   False          False   \n",
              "2180  False  False  False   False    False   False          False   \n",
              "2181  False  False  False   False    False   False          False   \n",
              "2182  False  False  False   False    False   False          False   \n",
              "2183  False  False  False   False    False   False          False   \n",
              "2184  False  False  False   False    False   False          False   \n",
              "2185  False  False  False   False    False   False          False   \n",
              "2186  False  False  False   False    False   False          False   \n",
              "2187  False  False  False   False    False   False          False   \n",
              "2188  False  False  False   False    False   False          False   \n",
              "\n",
              "      Original Price  \n",
              "2179            True  \n",
              "2180            True  \n",
              "2181            True  \n",
              "2182            True  \n",
              "2183            True  \n",
              "2184            True  \n",
              "2185            True  \n",
              "2186            True  \n",
              "2187           False  \n",
              "2188           False  "
            ],
            "text/html": [
              "\n",
              "  <div id=\"df-17ba753c-38f3-4b04-bba0-1807c8c87f95\" class=\"colab-df-container\">\n",
              "    <div>\n",
              "<style scoped>\n",
              "    .dataframe tbody tr th:only-of-type {\n",
              "        vertical-align: middle;\n",
              "    }\n",
              "\n",
              "    .dataframe tbody tr th {\n",
              "        vertical-align: top;\n",
              "    }\n",
              "\n",
              "    .dataframe thead th {\n",
              "        text-align: right;\n",
              "    }\n",
              "</style>\n",
              "<table border=\"1\" class=\"dataframe\">\n",
              "  <thead>\n",
              "    <tr style=\"text-align: right;\">\n",
              "      <th></th>\n",
              "      <th>Brand</th>\n",
              "      <th>Model</th>\n",
              "      <th>Color</th>\n",
              "      <th>Memory</th>\n",
              "      <th>Storage</th>\n",
              "      <th>Rating</th>\n",
              "      <th>Selling Price</th>\n",
              "      <th>Original Price</th>\n",
              "    </tr>\n",
              "  </thead>\n",
              "  <tbody>\n",
              "    <tr>\n",
              "      <th>2179</th>\n",
              "      <td>False</td>\n",
              "      <td>False</td>\n",
              "      <td>False</td>\n",
              "      <td>False</td>\n",
              "      <td>False</td>\n",
              "      <td>False</td>\n",
              "      <td>False</td>\n",
              "      <td>True</td>\n",
              "    </tr>\n",
              "    <tr>\n",
              "      <th>2180</th>\n",
              "      <td>False</td>\n",
              "      <td>False</td>\n",
              "      <td>False</td>\n",
              "      <td>False</td>\n",
              "      <td>False</td>\n",
              "      <td>False</td>\n",
              "      <td>False</td>\n",
              "      <td>True</td>\n",
              "    </tr>\n",
              "    <tr>\n",
              "      <th>2181</th>\n",
              "      <td>False</td>\n",
              "      <td>False</td>\n",
              "      <td>False</td>\n",
              "      <td>False</td>\n",
              "      <td>False</td>\n",
              "      <td>False</td>\n",
              "      <td>False</td>\n",
              "      <td>True</td>\n",
              "    </tr>\n",
              "    <tr>\n",
              "      <th>2182</th>\n",
              "      <td>False</td>\n",
              "      <td>False</td>\n",
              "      <td>False</td>\n",
              "      <td>False</td>\n",
              "      <td>False</td>\n",
              "      <td>False</td>\n",
              "      <td>False</td>\n",
              "      <td>True</td>\n",
              "    </tr>\n",
              "    <tr>\n",
              "      <th>2183</th>\n",
              "      <td>False</td>\n",
              "      <td>False</td>\n",
              "      <td>False</td>\n",
              "      <td>False</td>\n",
              "      <td>False</td>\n",
              "      <td>False</td>\n",
              "      <td>False</td>\n",
              "      <td>True</td>\n",
              "    </tr>\n",
              "    <tr>\n",
              "      <th>2184</th>\n",
              "      <td>False</td>\n",
              "      <td>False</td>\n",
              "      <td>False</td>\n",
              "      <td>False</td>\n",
              "      <td>False</td>\n",
              "      <td>False</td>\n",
              "      <td>False</td>\n",
              "      <td>True</td>\n",
              "    </tr>\n",
              "    <tr>\n",
              "      <th>2185</th>\n",
              "      <td>False</td>\n",
              "      <td>False</td>\n",
              "      <td>False</td>\n",
              "      <td>False</td>\n",
              "      <td>False</td>\n",
              "      <td>False</td>\n",
              "      <td>False</td>\n",
              "      <td>True</td>\n",
              "    </tr>\n",
              "    <tr>\n",
              "      <th>2186</th>\n",
              "      <td>False</td>\n",
              "      <td>False</td>\n",
              "      <td>False</td>\n",
              "      <td>False</td>\n",
              "      <td>False</td>\n",
              "      <td>False</td>\n",
              "      <td>False</td>\n",
              "      <td>True</td>\n",
              "    </tr>\n",
              "    <tr>\n",
              "      <th>2187</th>\n",
              "      <td>False</td>\n",
              "      <td>False</td>\n",
              "      <td>False</td>\n",
              "      <td>False</td>\n",
              "      <td>False</td>\n",
              "      <td>False</td>\n",
              "      <td>False</td>\n",
              "      <td>False</td>\n",
              "    </tr>\n",
              "    <tr>\n",
              "      <th>2188</th>\n",
              "      <td>False</td>\n",
              "      <td>False</td>\n",
              "      <td>False</td>\n",
              "      <td>False</td>\n",
              "      <td>False</td>\n",
              "      <td>False</td>\n",
              "      <td>False</td>\n",
              "      <td>False</td>\n",
              "    </tr>\n",
              "  </tbody>\n",
              "</table>\n",
              "</div>\n",
              "    <div class=\"colab-df-buttons\">\n",
              "\n",
              "  <div class=\"colab-df-container\">\n",
              "    <button class=\"colab-df-convert\" onclick=\"convertToInteractive('df-17ba753c-38f3-4b04-bba0-1807c8c87f95')\"\n",
              "            title=\"Convert this dataframe to an interactive table.\"\n",
              "            style=\"display:none;\">\n",
              "\n",
              "  <svg xmlns=\"http://www.w3.org/2000/svg\" height=\"24px\" viewBox=\"0 -960 960 960\">\n",
              "    <path d=\"M120-120v-720h720v720H120Zm60-500h600v-160H180v160Zm220 220h160v-160H400v160Zm0 220h160v-160H400v160ZM180-400h160v-160H180v160Zm440 0h160v-160H620v160ZM180-180h160v-160H180v160Zm440 0h160v-160H620v160Z\"/>\n",
              "  </svg>\n",
              "    </button>\n",
              "\n",
              "  <style>\n",
              "    .colab-df-container {\n",
              "      display:flex;\n",
              "      gap: 12px;\n",
              "    }\n",
              "\n",
              "    .colab-df-convert {\n",
              "      background-color: #E8F0FE;\n",
              "      border: none;\n",
              "      border-radius: 50%;\n",
              "      cursor: pointer;\n",
              "      display: none;\n",
              "      fill: #1967D2;\n",
              "      height: 32px;\n",
              "      padding: 0 0 0 0;\n",
              "      width: 32px;\n",
              "    }\n",
              "\n",
              "    .colab-df-convert:hover {\n",
              "      background-color: #E2EBFA;\n",
              "      box-shadow: 0px 1px 2px rgba(60, 64, 67, 0.3), 0px 1px 3px 1px rgba(60, 64, 67, 0.15);\n",
              "      fill: #174EA6;\n",
              "    }\n",
              "\n",
              "    .colab-df-buttons div {\n",
              "      margin-bottom: 4px;\n",
              "    }\n",
              "\n",
              "    [theme=dark] .colab-df-convert {\n",
              "      background-color: #3B4455;\n",
              "      fill: #D2E3FC;\n",
              "    }\n",
              "\n",
              "    [theme=dark] .colab-df-convert:hover {\n",
              "      background-color: #434B5C;\n",
              "      box-shadow: 0px 1px 3px 1px rgba(0, 0, 0, 0.15);\n",
              "      filter: drop-shadow(0px 1px 2px rgba(0, 0, 0, 0.3));\n",
              "      fill: #FFFFFF;\n",
              "    }\n",
              "  </style>\n",
              "\n",
              "    <script>\n",
              "      const buttonEl =\n",
              "        document.querySelector('#df-17ba753c-38f3-4b04-bba0-1807c8c87f95 button.colab-df-convert');\n",
              "      buttonEl.style.display =\n",
              "        google.colab.kernel.accessAllowed ? 'block' : 'none';\n",
              "\n",
              "      async function convertToInteractive(key) {\n",
              "        const element = document.querySelector('#df-17ba753c-38f3-4b04-bba0-1807c8c87f95');\n",
              "        const dataTable =\n",
              "          await google.colab.kernel.invokeFunction('convertToInteractive',\n",
              "                                                    [key], {});\n",
              "        if (!dataTable) return;\n",
              "\n",
              "        const docLinkHtml = 'Like what you see? Visit the ' +\n",
              "          '<a target=\"_blank\" href=https://colab.research.google.com/notebooks/data_table.ipynb>data table notebook</a>'\n",
              "          + ' to learn more about interactive tables.';\n",
              "        element.innerHTML = '';\n",
              "        dataTable['output_type'] = 'display_data';\n",
              "        await google.colab.output.renderOutput(dataTable, element);\n",
              "        const docLink = document.createElement('div');\n",
              "        docLink.innerHTML = docLinkHtml;\n",
              "        element.appendChild(docLink);\n",
              "      }\n",
              "    </script>\n",
              "  </div>\n",
              "\n",
              "\n",
              "<div id=\"df-baf3e75e-e5e2-45b4-a6ba-8fa271f7387b\">\n",
              "  <button class=\"colab-df-quickchart\" onclick=\"quickchart('df-baf3e75e-e5e2-45b4-a6ba-8fa271f7387b')\"\n",
              "            title=\"Suggest charts\"\n",
              "            style=\"display:none;\">\n",
              "\n",
              "<svg xmlns=\"http://www.w3.org/2000/svg\" height=\"24px\"viewBox=\"0 0 24 24\"\n",
              "     width=\"24px\">\n",
              "    <g>\n",
              "        <path d=\"M19 3H5c-1.1 0-2 .9-2 2v14c0 1.1.9 2 2 2h14c1.1 0 2-.9 2-2V5c0-1.1-.9-2-2-2zM9 17H7v-7h2v7zm4 0h-2V7h2v10zm4 0h-2v-4h2v4z\"/>\n",
              "    </g>\n",
              "</svg>\n",
              "  </button>\n",
              "\n",
              "<style>\n",
              "  .colab-df-quickchart {\n",
              "      --bg-color: #E8F0FE;\n",
              "      --fill-color: #1967D2;\n",
              "      --hover-bg-color: #E2EBFA;\n",
              "      --hover-fill-color: #174EA6;\n",
              "      --disabled-fill-color: #AAA;\n",
              "      --disabled-bg-color: #DDD;\n",
              "  }\n",
              "\n",
              "  [theme=dark] .colab-df-quickchart {\n",
              "      --bg-color: #3B4455;\n",
              "      --fill-color: #D2E3FC;\n",
              "      --hover-bg-color: #434B5C;\n",
              "      --hover-fill-color: #FFFFFF;\n",
              "      --disabled-bg-color: #3B4455;\n",
              "      --disabled-fill-color: #666;\n",
              "  }\n",
              "\n",
              "  .colab-df-quickchart {\n",
              "    background-color: var(--bg-color);\n",
              "    border: none;\n",
              "    border-radius: 50%;\n",
              "    cursor: pointer;\n",
              "    display: none;\n",
              "    fill: var(--fill-color);\n",
              "    height: 32px;\n",
              "    padding: 0;\n",
              "    width: 32px;\n",
              "  }\n",
              "\n",
              "  .colab-df-quickchart:hover {\n",
              "    background-color: var(--hover-bg-color);\n",
              "    box-shadow: 0 1px 2px rgba(60, 64, 67, 0.3), 0 1px 3px 1px rgba(60, 64, 67, 0.15);\n",
              "    fill: var(--button-hover-fill-color);\n",
              "  }\n",
              "\n",
              "  .colab-df-quickchart-complete:disabled,\n",
              "  .colab-df-quickchart-complete:disabled:hover {\n",
              "    background-color: var(--disabled-bg-color);\n",
              "    fill: var(--disabled-fill-color);\n",
              "    box-shadow: none;\n",
              "  }\n",
              "\n",
              "  .colab-df-spinner {\n",
              "    border: 2px solid var(--fill-color);\n",
              "    border-color: transparent;\n",
              "    border-bottom-color: var(--fill-color);\n",
              "    animation:\n",
              "      spin 1s steps(1) infinite;\n",
              "  }\n",
              "\n",
              "  @keyframes spin {\n",
              "    0% {\n",
              "      border-color: transparent;\n",
              "      border-bottom-color: var(--fill-color);\n",
              "      border-left-color: var(--fill-color);\n",
              "    }\n",
              "    20% {\n",
              "      border-color: transparent;\n",
              "      border-left-color: var(--fill-color);\n",
              "      border-top-color: var(--fill-color);\n",
              "    }\n",
              "    30% {\n",
              "      border-color: transparent;\n",
              "      border-left-color: var(--fill-color);\n",
              "      border-top-color: var(--fill-color);\n",
              "      border-right-color: var(--fill-color);\n",
              "    }\n",
              "    40% {\n",
              "      border-color: transparent;\n",
              "      border-right-color: var(--fill-color);\n",
              "      border-top-color: var(--fill-color);\n",
              "    }\n",
              "    60% {\n",
              "      border-color: transparent;\n",
              "      border-right-color: var(--fill-color);\n",
              "    }\n",
              "    80% {\n",
              "      border-color: transparent;\n",
              "      border-right-color: var(--fill-color);\n",
              "      border-bottom-color: var(--fill-color);\n",
              "    }\n",
              "    90% {\n",
              "      border-color: transparent;\n",
              "      border-bottom-color: var(--fill-color);\n",
              "    }\n",
              "  }\n",
              "</style>\n",
              "\n",
              "  <script>\n",
              "    async function quickchart(key) {\n",
              "      const quickchartButtonEl =\n",
              "        document.querySelector('#' + key + ' button');\n",
              "      quickchartButtonEl.disabled = true;  // To prevent multiple clicks.\n",
              "      quickchartButtonEl.classList.add('colab-df-spinner');\n",
              "      try {\n",
              "        const charts = await google.colab.kernel.invokeFunction(\n",
              "            'suggestCharts', [key], {});\n",
              "      } catch (error) {\n",
              "        console.error('Error during call to suggestCharts:', error);\n",
              "      }\n",
              "      quickchartButtonEl.classList.remove('colab-df-spinner');\n",
              "      quickchartButtonEl.classList.add('colab-df-quickchart-complete');\n",
              "    }\n",
              "    (() => {\n",
              "      let quickchartButtonEl =\n",
              "        document.querySelector('#df-baf3e75e-e5e2-45b4-a6ba-8fa271f7387b button');\n",
              "      quickchartButtonEl.style.display =\n",
              "        google.colab.kernel.accessAllowed ? 'block' : 'none';\n",
              "    })();\n",
              "  </script>\n",
              "</div>\n",
              "\n",
              "    </div>\n",
              "  </div>\n"
            ],
            "application/vnd.google.colaboratory.intrinsic+json": {
              "type": "dataframe",
              "variable_name": "missing_data",
              "summary": "{\n  \"name\": \"missing_data\",\n  \"rows\": 468,\n  \"fields\": [\n    {\n      \"column\": \"Brand\",\n      \"properties\": {\n        \"dtype\": \"boolean\",\n        \"num_unique_values\": 1,\n        \"samples\": [\n          false\n        ],\n        \"semantic_type\": \"\",\n        \"description\": \"\"\n      }\n    },\n    {\n      \"column\": \"Model\",\n      \"properties\": {\n        \"dtype\": \"boolean\",\n        \"num_unique_values\": 1,\n        \"samples\": [\n          false\n        ],\n        \"semantic_type\": \"\",\n        \"description\": \"\"\n      }\n    },\n    {\n      \"column\": \"Color\",\n      \"properties\": {\n        \"dtype\": \"boolean\",\n        \"num_unique_values\": 2,\n        \"samples\": [\n          true\n        ],\n        \"semantic_type\": \"\",\n        \"description\": \"\"\n      }\n    },\n    {\n      \"column\": \"Memory\",\n      \"properties\": {\n        \"dtype\": \"boolean\",\n        \"num_unique_values\": 2,\n        \"samples\": [\n          true\n        ],\n        \"semantic_type\": \"\",\n        \"description\": \"\"\n      }\n    },\n    {\n      \"column\": \"Storage\",\n      \"properties\": {\n        \"dtype\": \"boolean\",\n        \"num_unique_values\": 1,\n        \"samples\": [\n          false\n        ],\n        \"semantic_type\": \"\",\n        \"description\": \"\"\n      }\n    },\n    {\n      \"column\": \"Rating\",\n      \"properties\": {\n        \"dtype\": \"boolean\",\n        \"num_unique_values\": 1,\n        \"samples\": [\n          false\n        ],\n        \"semantic_type\": \"\",\n        \"description\": \"\"\n      }\n    },\n    {\n      \"column\": \"Selling Price\",\n      \"properties\": {\n        \"dtype\": \"boolean\",\n        \"num_unique_values\": 2,\n        \"samples\": [\n          true\n        ],\n        \"semantic_type\": \"\",\n        \"description\": \"\"\n      }\n    },\n    {\n      \"column\": \"Original Price\",\n      \"properties\": {\n        \"dtype\": \"boolean\",\n        \"num_unique_values\": 2,\n        \"samples\": [\n          false\n        ],\n        \"semantic_type\": \"\",\n        \"description\": \"\"\n      }\n    }\n  ]\n}"
            }
          },
          "metadata": {},
          "execution_count": 18
        }
      ]
    },
    {
      "cell_type": "markdown",
      "source": [
        "HANDLING MISSING DATA"
      ],
      "metadata": {
        "id": "B8EAhwBRPWHF"
      }
    },
    {
      "cell_type": "code",
      "source": [
        "#HANDLING THE DATASET\n",
        "dataset2.replace(\"?\",np.nan, inplace = True)\n",
        "print(dataset2)"
      ],
      "metadata": {
        "colab": {
          "base_uri": "https://localhost:8080/"
        },
        "id": "-vxarAyyPtz9",
        "outputId": "cb149dc6-2ccc-4e52-f0d1-31cab507af82"
      },
      "execution_count": null,
      "outputs": [
        {
          "output_type": "stream",
          "name": "stdout",
          "text": [
            "       Brand      Model            Color Memory Storage  Rating  \\\n",
            "0       OPPO        A53  Moonlight Black   4 GB   64 GB     4.5   \n",
            "1       OPPO        A53       Mint Cream   4 GB   64 GB     4.5   \n",
            "2       OPPO        A53  Moonlight Black   6 GB  128 GB     4.3   \n",
            "3       OPPO        A53       Mint Cream   6 GB  128 GB     4.3   \n",
            "4       OPPO        A53   Electric Black   4 GB   64 GB     4.5   \n",
            "...      ...        ...              ...    ...     ...     ...   \n",
            "2642  Xiaomi  Redmi Y3          Bold Red   4 GB   64 GB     4.3   \n",
            "2643  Xiaomi  Redmi Y3      Elegant Blue   3 GB   32 GB     4.3   \n",
            "2644  Xiaomi  Redmi Y3      Elegant Blue   4 GB   64 GB     4.2   \n",
            "2645  Xiaomi  Redmi Y3       Prime Black   3 GB   32 GB     4.2   \n",
            "2646  Xiaomi  Redmi Y3       Prime Black   4 GB   64 GB     4.3   \n",
            "\n",
            "      Selling Price  Original Price  \n",
            "0           11990.0         15990.0  \n",
            "1           11990.0         15990.0  \n",
            "2           13990.0         17990.0  \n",
            "3           13990.0         17990.0  \n",
            "4           11990.0         15990.0  \n",
            "...             ...             ...  \n",
            "2642        12999.0         13999.0  \n",
            "2643         9450.0             NaN  \n",
            "2644        12999.0             NaN  \n",
            "2645         9950.0             NaN  \n",
            "2646        12499.0         13999.0  \n",
            "\n",
            "[2647 rows x 8 columns]\n"
          ]
        }
      ]
    },
    {
      "cell_type": "markdown",
      "source": [
        "HANDLING THE MISSING DATA OF RATING"
      ],
      "metadata": {
        "id": "Ws-zM6ruGqDI"
      }
    },
    {
      "cell_type": "code",
      "source": [
        "#HANDLING THE MISSING DATA OF RATING\n",
        "missing_values = dataset2['Rating'].isnull().sum()\n",
        "print(\"Number of the missing values:\",missing_values)\n",
        "avg_Rating = dataset2['Rating'].astype('float').mean(axis=0)\n",
        "print(\"Average Rating  :\",avg_Rating  )\n",
        "\n",
        "dataset2['Rating'].replace(np.nan, avg_Rating,inplace=True)\n",
        "\n"
      ],
      "metadata": {
        "colab": {
          "base_uri": "https://localhost:8080/"
        },
        "id": "tZDXhBJKcRSK",
        "outputId": "55490412-0a11-4b3d-fbe8-9b139d12f8fb"
      },
      "execution_count": null,
      "outputs": [
        {
          "output_type": "stream",
          "name": "stdout",
          "text": [
            "Number of the missing values: 0\n",
            "Average Rating  : 4.0903846153846155\n"
          ]
        }
      ]
    },
    {
      "cell_type": "markdown",
      "source": [
        "FINDING OUTLIERS"
      ],
      "metadata": {
        "id": "1nLkfdy0jfQR"
      }
    },
    {
      "cell_type": "code",
      "source": [
        "plt.figure(figsize=(20,5))\n",
        "sns.boxplot(x=dataset2['Selling Price'])"
      ],
      "metadata": {
        "colab": {
          "base_uri": "https://localhost:8080/",
          "height": 217
        },
        "id": "7P4jIPsXo3A8",
        "outputId": "e6de99fe-e1e0-4905-951e-ee3cae1a6bc8"
      },
      "execution_count": null,
      "outputs": [
        {
          "output_type": "execute_result",
          "data": {
            "text/plain": [
              "<Axes: xlabel='Selling Price'>"
            ]
          },
          "metadata": {},
          "execution_count": 21
        },
        {
          "output_type": "display_data",
          "data": {
            "text/plain": [
              "<Figure size 2000x500 with 1 Axes>"
            ],
            "image/png": "[encoded data removed]"
          },
          "metadata": {}
        }
      ]
    },
    {
      "cell_type": "markdown",
      "source": [
        "HISTOGRAM"
      ],
      "metadata": {
        "id": "s-FJDER6pdUP"
      }
    },
    {
      "cell_type": "code",
      "source": [
        "column_to_plot ='Selling Price'\n",
        "sns.histplot(data=dataset2,x=column_to_plot,bins=10,color='skyblue',edgecolor='black')\n",
        "plt.xlabel(column_to_plot)\n",
        "plt.ylabel('Frequency')\n",
        "plt.title('Histogram of {}'.format(column_to_plot))\n",
        "plt.show()"
      ],
      "metadata": {
        "colab": {
          "base_uri": "https://localhost:8080/",
          "height": 472
        },
        "id": "qjKrW3QJpeFr",
        "outputId": "94ca55ed-3b3e-47b1-c4ec-532dc9f36f8b"
      },
      "execution_count": null,
      "outputs": [
        {
          "output_type": "display_data",
          "data": {
            "text/plain": [
              "<Figure size 640x480 with 1 Axes>"
            ],
            "image/png": "[encoded data removed]"
          },
          "metadata": {}
        }
      ]
    },
    {
      "cell_type": "markdown",
      "source": [
        "## DATA REDUCTION"
      ],
      "metadata": {
        "id": "dvLprqBp82yK"
      }
    },
    {
      "cell_type": "markdown",
      "source": [
        "REMOVING COLUMNS THAT DONT HAVE PRICE DATA"
      ],
      "metadata": {
        "id": "bLwCh1Ns9fPi"
      }
    },
    {
      "cell_type": "markdown",
      "source": [],
      "metadata": {
        "id": "tvo7Z_TV9POV"
      }
    },
    {
      "cell_type": "code",
      "source": [
        "dataset2.dropna(subset=[\"Selling Price\"],axis=0,inplace=True)\n",
        "dataset2.reset_index(drop=True,inplace=True)\n",
        "missing_data = dataset2.isnull()\n",
        "for column in dataset1.columns:\n",
        "    print(column)\n",
        "    print(missing_data[column].value_counts())\n",
        "    print()\n",
        "    print(\"\")"
      ],
      "metadata": {
        "colab": {
          "base_uri": "https://localhost:8080/"
        },
        "id": "ilaDncfhtEIP",
        "outputId": "7f782b9e-bed2-42cd-ca44-05f89d1b5251"
      },
      "execution_count": null,
      "outputs": [
        {
          "output_type": "stream",
          "name": "stdout",
          "text": [
            "Brand\n",
            "False    2644\n",
            "Name: Brand, dtype: int64\n",
            "\n",
            "\n",
            "Model\n",
            "False    2642\n",
            "True        2\n",
            "Name: Model, dtype: int64\n",
            "\n",
            "\n",
            "Color\n",
            "False    2502\n",
            "True      142\n",
            "Name: Color, dtype: int64\n",
            "\n",
            "\n",
            "Memory\n",
            "False    2602\n",
            "True       42\n",
            "Name: Memory, dtype: int64\n",
            "\n",
            "\n",
            "Storage\n",
            "False    2565\n",
            "True       79\n",
            "Name: Storage, dtype: int64\n",
            "\n",
            "\n",
            "Rating\n",
            "False    2644\n",
            "Name: Rating, dtype: int64\n",
            "\n",
            "\n",
            "Selling Price\n",
            "False    2644\n",
            "Name: Selling Price, dtype: int64\n",
            "\n",
            "\n",
            "Original Price\n",
            "True     1675\n",
            "False     969\n",
            "Name: Original Price, dtype: int64\n",
            "\n",
            "\n"
          ]
        }
      ]
    },
    {
      "cell_type": "markdown",
      "source": [
        "DATA BINNING"
      ],
      "metadata": {
        "id": "oJEIuIiysAo-"
      }
    },
    {
      "cell_type": "code",
      "source": [
        "data_type = dataset2['Rating'].dtype\n",
        "print(\"Datatype of specific_column:\",data_type)"
      ],
      "metadata": {
        "colab": {
          "base_uri": "https://localhost:8080/"
        },
        "id": "B2lGRDdMsADu",
        "outputId": "a5592bf1-784a-4376-a193-378a2e5cbef1"
      },
      "execution_count": null,
      "outputs": [
        {
          "output_type": "stream",
          "name": "stdout",
          "text": [
            "Datatype of specific_column: float64\n"
          ]
        }
      ]
    },
    {
      "cell_type": "markdown",
      "source": [
        "Binning is the process of transforming continuous numerical variable into discrete categorical'bin'for grouped data analysis"
      ],
      "metadata": {
        "id": "ivWaMHPbE5lO"
      }
    },
    {
      "cell_type": "code",
      "source": [
        "dataset1[\"Rating\"]=dataset1[\"Rating\"].astype(float )\n",
        "%matplotlib inline\n",
        "import matplotlib as plt\n",
        "from matplotlib import pyplot\n",
        "plt.pyplot.hist(dataset1[\"Rating\"])\n",
        "\n",
        "\n",
        "plt.pyplot.xlabel(\"Rating\")\n",
        "plt.pyplot.ylabel(\"count\")\n",
        "plt.pyplot.title(\"Rating bins\")"
      ],
      "metadata": {
        "colab": {
          "base_uri": "https://localhost:8080/",
          "height": 490
        },
        "id": "2X_4gqCa-tCc",
        "outputId": "d24202bc-b865-4565-c584-9ab7f341972e"
      },
      "execution_count": null,
      "outputs": [
        {
          "output_type": "execute_result",
          "data": {
            "text/plain": [
              "Text(0.5, 1.0, 'Rating bins')"
            ]
          },
          "metadata": {},
          "execution_count": 25
        },
        {
          "output_type": "display_data",
          "data": {
            "text/plain": [
              "<Figure size 640x480 with 1 Axes>"
            ],
            "image/png": "[encoded data removed]"
          },
          "metadata": {}
        }
      ]
    },
    {
      "cell_type": "markdown",
      "source": [
        "Train and Test"
      ],
      "metadata": {
        "id": "XgZIQsKYr3xP"
      }
    },
    {
      "cell_type": "code",
      "source": [
        "X= dataset2.iloc[:,-1]\n",
        "y= dataset2.iloc[:,-1]\n",
        "from sklearn.model_selection import train_test_split\n",
        "X_train,X_test,y_train,y_test=train_test_split(X,y,test_size =0.2,random_state= 1)"
      ],
      "metadata": {
        "id": "K6mVQp68PHmd"
      },
      "execution_count": null,
      "outputs": []
    },
    {
      "cell_type": "markdown",
      "source": [
        "ENCODING CATEGORICAL DATA"
      ],
      "metadata": {
        "id": "sVmaGGR2RYM4"
      }
    },
    {
      "cell_type": "code",
      "source": [
        "from sklearn.preprocessing import LabelEncoder\n",
        "le = LabelEncoder()\n",
        "dataset2['Brand']=le.fit_transform(dataset2['Brand'])\n",
        "print(dataset2['Brand'])\n",
        "\n",
        "\n"
      ],
      "metadata": {
        "colab": {
          "base_uri": "https://localhost:8080/"
        },
        "id": "Pi7-I1qBRcjI",
        "outputId": "26a73562-4317-4544-f5d0-25f9083f8a92"
      },
      "execution_count": null,
      "outputs": [
        {
          "output_type": "stream",
          "name": "stdout",
          "text": [
            "0      3\n",
            "1      0\n",
            "2      0\n",
            "3      0\n",
            "4      0\n",
            "      ..\n",
            "463    4\n",
            "464    4\n",
            "465    4\n",
            "466    4\n",
            "467    4\n",
            "Name: Brand, Length: 468, dtype: int64\n"
          ]
        }
      ]
    },
    {
      "cell_type": "markdown",
      "source": [],
      "metadata": {
        "id": "mhHqCOqsbqQQ"
      }
    },
    {
      "cell_type": "code",
      "source": [
        "from sklearn.preprocessing import MinMaxScaler,StandardScaler\n",
        "columns_to_normlalize =['Rating','Selling Price','Original Price']\n",
        "#Normalisenusing MinMaxScaler\n",
        "min_max_scaler = MinMaxScaler()\n",
        "dataset1_normalize_minmax=pd.DataFrame(min_max_scaler.fit_transform(dataset1[columns_to_normlalize]),columns=columns_to_normlalize)\n",
        "print(dataset1_normalize_minmax)"
      ],
      "metadata": {
        "colab": {
          "base_uri": "https://localhost:8080/"
        },
        "id": "ZblkCJBrbzyi",
        "outputId": "7757499a-0477-483e-9c63-8bbf03f94aaa"
      },
      "execution_count": null,
      "outputs": [
        {
          "output_type": "stream",
          "name": "stdout",
          "text": [
            "        Rating  Selling Price  Original Price\n",
            "0     0.782609       0.061431        0.079313\n",
            "1     0.782609       0.061431        0.079313\n",
            "2     0.695652       0.072610        0.089895\n",
            "3     0.695652       0.072610        0.089895\n",
            "4     0.782609       0.061431        0.079313\n",
            "...        ...            ...             ...\n",
            "2174  0.565217       0.183902        0.174075\n",
            "2175  0.695652       0.200671        0.189948\n",
            "2176  0.652174       0.190045        0.179890\n",
            "2177  0.652174       0.150922        0.322690\n",
            "2178  0.739130       0.200671        0.189948\n",
            "\n",
            "[2179 rows x 3 columns]\n"
          ]
        }
      ]
    },
    {
      "cell_type": "code",
      "source": [],
      "metadata": {
        "id": "lQdEgL8O8f81"
      },
      "execution_count": null,
      "outputs": []
    },
    {
      "cell_type": "markdown",
      "source": [
        "DATA INTEGERATION"
      ],
      "metadata": {
        "id": "GQS6bL4Kh5oE"
      }
    },
    {
      "cell_type": "code",
      "source": [
        "#Load the split dataset\n",
        "dataset1=pd.read_csv('/content/dataset_part1.csv')\n",
        "dataset2=pd.read_csv('/content/dataset_part2.csv')\n",
        "\n",
        "#Merge the split dataset\n",
        "merged_dataset = pd.concat([dataset1,dataset2],ignore_index=True)\n",
        "#Save the merged dataset to a new CSV file\n",
        "merged_dataset.to_csv('merged_dataset.csv',index=False)\n",
        "merged=pd.read_csv('merged_dataset.csv')\n",
        "merged.head()\n"
      ],
      "metadata": {
        "colab": {
          "base_uri": "https://localhost:8080/",
          "height": 275
        },
        "id": "NOYWB5ciiDHK",
        "outputId": "66ae61ab-1a36-4969-aafc-780cbeb5951b"
      },
      "execution_count": null,
      "outputs": [
        {
          "output_type": "execute_result",
          "data": {
            "text/plain": [
              "  Brand Model            Color Memory Storage  Rating  Selling Price  \\\n",
              "0  OPPO   A53  Moonlight Black   4 GB   64 GB     4.5        11990.0   \n",
              "1  OPPO   A53       Mint Cream   4 GB   64 GB     4.5        11990.0   \n",
              "2  OPPO   A53  Moonlight Black   6 GB  128 GB     4.3        13990.0   \n",
              "3  OPPO   A53       Mint Cream   6 GB  128 GB     4.3        13990.0   \n",
              "4  OPPO   A53   Electric Black   4 GB   64 GB     4.5        11990.0   \n",
              "\n",
              "   Original Price  \n",
              "0         15990.0  \n",
              "1         15990.0  \n",
              "2         17990.0  \n",
              "3         17990.0  \n",
              "4         15990.0  "
            ],
            "text/html": [
              "\n",
              "  <div id=\"df-4646e659-f952-4e97-b306-94d9a13d4645\" class=\"colab-df-container\">\n",
              "    <div>\n",
              "<style scoped>\n",
              "    .dataframe tbody tr th:only-of-type {\n",
              "        vertical-align: middle;\n",
              "    }\n",
              "\n",
              "    .dataframe tbody tr th {\n",
              "        vertical-align: top;\n",
              "    }\n",
              "\n",
              "    .dataframe thead th {\n",
              "        text-align: right;\n",
              "    }\n",
              "</style>\n",
              "<table border=\"1\" class=\"dataframe\">\n",
              "  <thead>\n",
              "    <tr style=\"text-align: right;\">\n",
              "      <th></th>\n",
              "      <th>Brand</th>\n",
              "      <th>Model</th>\n",
              "      <th>Color</th>\n",
              "      <th>Memory</th>\n",
              "      <th>Storage</th>\n",
              "      <th>Rating</th>\n",
              "      <th>Selling Price</th>\n",
              "      <th>Original Price</th>\n",
              "    </tr>\n",
              "  </thead>\n",
              "  <tbody>\n",
              "    <tr>\n",
              "      <th>0</th>\n",
              "      <td>OPPO</td>\n",
              "      <td>A53</td>\n",
              "      <td>Moonlight Black</td>\n",
              "      <td>4 GB</td>\n",
              "      <td>64 GB</td>\n",
              "      <td>4.5</td>\n",
              "      <td>11990.0</td>\n",
              "      <td>15990.0</td>\n",
              "    </tr>\n",
              "    <tr>\n",
              "      <th>1</th>\n",
              "      <td>OPPO</td>\n",
              "      <td>A53</td>\n",
              "      <td>Mint Cream</td>\n",
              "      <td>4 GB</td>\n",
              "      <td>64 GB</td>\n",
              "      <td>4.5</td>\n",
              "      <td>11990.0</td>\n",
              "      <td>15990.0</td>\n",
              "    </tr>\n",
              "    <tr>\n",
              "      <th>2</th>\n",
              "      <td>OPPO</td>\n",
              "      <td>A53</td>\n",
              "      <td>Moonlight Black</td>\n",
              "      <td>6 GB</td>\n",
              "      <td>128 GB</td>\n",
              "      <td>4.3</td>\n",
              "      <td>13990.0</td>\n",
              "      <td>17990.0</td>\n",
              "    </tr>\n",
              "    <tr>\n",
              "      <th>3</th>\n",
              "      <td>OPPO</td>\n",
              "      <td>A53</td>\n",
              "      <td>Mint Cream</td>\n",
              "      <td>6 GB</td>\n",
              "      <td>128 GB</td>\n",
              "      <td>4.3</td>\n",
              "      <td>13990.0</td>\n",
              "      <td>17990.0</td>\n",
              "    </tr>\n",
              "    <tr>\n",
              "      <th>4</th>\n",
              "      <td>OPPO</td>\n",
              "      <td>A53</td>\n",
              "      <td>Electric Black</td>\n",
              "      <td>4 GB</td>\n",
              "      <td>64 GB</td>\n",
              "      <td>4.5</td>\n",
              "      <td>11990.0</td>\n",
              "      <td>15990.0</td>\n",
              "    </tr>\n",
              "  </tbody>\n",
              "</table>\n",
              "</div>\n",
              "    <div class=\"colab-df-buttons\">\n",
              "\n",
              "  <div class=\"colab-df-container\">\n",
              "    <button class=\"colab-df-convert\" onclick=\"convertToInteractive('df-4646e659-f952-4e97-b306-94d9a13d4645')\"\n",
              "            title=\"Convert this dataframe to an interactive table.\"\n",
              "            style=\"display:none;\">\n",
              "\n",
              "  <svg xmlns=\"http://www.w3.org/2000/svg\" height=\"24px\" viewBox=\"0 -960 960 960\">\n",
              "    <path d=\"M120-120v-720h720v720H120Zm60-500h600v-160H180v160Zm220 220h160v-160H400v160Zm0 220h160v-160H400v160ZM180-400h160v-160H180v160Zm440 0h160v-160H620v160ZM180-180h160v-160H180v160Zm440 0h160v-160H620v160Z\"/>\n",
              "  </svg>\n",
              "    </button>\n",
              "\n",
              "  <style>\n",
              "    .colab-df-container {\n",
              "      display:flex;\n",
              "      gap: 12px;\n",
              "    }\n",
              "\n",
              "    .colab-df-convert {\n",
              "      background-color: #E8F0FE;\n",
              "      border: none;\n",
              "      border-radius: 50%;\n",
              "      cursor: pointer;\n",
              "      display: none;\n",
              "      fill: #1967D2;\n",
              "      height: 32px;\n",
              "      padding: 0 0 0 0;\n",
              "      width: 32px;\n",
              "    }\n",
              "\n",
              "    .colab-df-convert:hover {\n",
              "      background-color: #E2EBFA;\n",
              "      box-shadow: 0px 1px 2px rgba(60, 64, 67, 0.3), 0px 1px 3px 1px rgba(60, 64, 67, 0.15);\n",
              "      fill: #174EA6;\n",
              "    }\n",
              "\n",
              "    .colab-df-buttons div {\n",
              "      margin-bottom: 4px;\n",
              "    }\n",
              "\n",
              "    [theme=dark] .colab-df-convert {\n",
              "      background-color: #3B4455;\n",
              "      fill: #D2E3FC;\n",
              "    }\n",
              "\n",
              "    [theme=dark] .colab-df-convert:hover {\n",
              "      background-color: #434B5C;\n",
              "      box-shadow: 0px 1px 3px 1px rgba(0, 0, 0, 0.15);\n",
              "      filter: drop-shadow(0px 1px 2px rgba(0, 0, 0, 0.3));\n",
              "      fill: #FFFFFF;\n",
              "    }\n",
              "  </style>\n",
              "\n",
              "    <script>\n",
              "      const buttonEl =\n",
              "        document.querySelector('#df-4646e659-f952-4e97-b306-94d9a13d4645 button.colab-df-convert');\n",
              "      buttonEl.style.display =\n",
              "        google.colab.kernel.accessAllowed ? 'block' : 'none';\n",
              "\n",
              "      async function convertToInteractive(key) {\n",
              "        const element = document.querySelector('#df-4646e659-f952-4e97-b306-94d9a13d4645');\n",
              "        const dataTable =\n",
              "          await google.colab.kernel.invokeFunction('convertToInteractive',\n",
              "                                                    [key], {});\n",
              "        if (!dataTable) return;\n",
              "\n",
              "        const docLinkHtml = 'Like what you see? Visit the ' +\n",
              "          '<a target=\"_blank\" href=https://colab.research.google.com/notebooks/data_table.ipynb>data table notebook</a>'\n",
              "          + ' to learn more about interactive tables.';\n",
              "        element.innerHTML = '';\n",
              "        dataTable['output_type'] = 'display_data';\n",
              "        await google.colab.output.renderOutput(dataTable, element);\n",
              "        const docLink = document.createElement('div');\n",
              "        docLink.innerHTML = docLinkHtml;\n",
              "        element.appendChild(docLink);\n",
              "      }\n",
              "    </script>\n",
              "  </div>\n",
              "\n",
              "\n",
              "<div id=\"df-5469eb6f-6187-455c-a5d7-3b73732e4d96\">\n",
              "  <button class=\"colab-df-quickchart\" onclick=\"quickchart('df-5469eb6f-6187-455c-a5d7-3b73732e4d96')\"\n",
              "            title=\"Suggest charts\"\n",
              "            style=\"display:none;\">\n",
              "\n",
              "<svg xmlns=\"http://www.w3.org/2000/svg\" height=\"24px\"viewBox=\"0 0 24 24\"\n",
              "     width=\"24px\">\n",
              "    <g>\n",
              "        <path d=\"M19 3H5c-1.1 0-2 .9-2 2v14c0 1.1.9 2 2 2h14c1.1 0 2-.9 2-2V5c0-1.1-.9-2-2-2zM9 17H7v-7h2v7zm4 0h-2V7h2v10zm4 0h-2v-4h2v4z\"/>\n",
              "    </g>\n",
              "</svg>\n",
              "  </button>\n",
              "\n",
              "<style>\n",
              "  .colab-df-quickchart {\n",
              "      --bg-color: #E8F0FE;\n",
              "      --fill-color: #1967D2;\n",
              "      --hover-bg-color: #E2EBFA;\n",
              "      --hover-fill-color: #174EA6;\n",
              "      --disabled-fill-color: #AAA;\n",
              "      --disabled-bg-color: #DDD;\n",
              "  }\n",
              "\n",
              "  [theme=dark] .colab-df-quickchart {\n",
              "      --bg-color: #3B4455;\n",
              "      --fill-color: #D2E3FC;\n",
              "      --hover-bg-color: #434B5C;\n",
              "      --hover-fill-color: #FFFFFF;\n",
              "      --disabled-bg-color: #3B4455;\n",
              "      --disabled-fill-color: #666;\n",
              "  }\n",
              "\n",
              "  .colab-df-quickchart {\n",
              "    background-color: var(--bg-color);\n",
              "    border: none;\n",
              "    border-radius: 50%;\n",
              "    cursor: pointer;\n",
              "    display: none;\n",
              "    fill: var(--fill-color);\n",
              "    height: 32px;\n",
              "    padding: 0;\n",
              "    width: 32px;\n",
              "  }\n",
              "\n",
              "  .colab-df-quickchart:hover {\n",
              "    background-color: var(--hover-bg-color);\n",
              "    box-shadow: 0 1px 2px rgba(60, 64, 67, 0.3), 0 1px 3px 1px rgba(60, 64, 67, 0.15);\n",
              "    fill: var(--button-hover-fill-color);\n",
              "  }\n",
              "\n",
              "  .colab-df-quickchart-complete:disabled,\n",
              "  .colab-df-quickchart-complete:disabled:hover {\n",
              "    background-color: var(--disabled-bg-color);\n",
              "    fill: var(--disabled-fill-color);\n",
              "    box-shadow: none;\n",
              "  }\n",
              "\n",
              "  .colab-df-spinner {\n",
              "    border: 2px solid var(--fill-color);\n",
              "    border-color: transparent;\n",
              "    border-bottom-color: var(--fill-color);\n",
              "    animation:\n",
              "      spin 1s steps(1) infinite;\n",
              "  }\n",
              "\n",
              "  @keyframes spin {\n",
              "    0% {\n",
              "      border-color: transparent;\n",
              "      border-bottom-color: var(--fill-color);\n",
              "      border-left-color: var(--fill-color);\n",
              "    }\n",
              "    20% {\n",
              "      border-color: transparent;\n",
              "      border-left-color: var(--fill-color);\n",
              "      border-top-color: var(--fill-color);\n",
              "    }\n",
              "    30% {\n",
              "      border-color: transparent;\n",
              "      border-left-color: var(--fill-color);\n",
              "      border-top-color: var(--fill-color);\n",
              "      border-right-color: var(--fill-color);\n",
              "    }\n",
              "    40% {\n",
              "      border-color: transparent;\n",
              "      border-right-color: var(--fill-color);\n",
              "      border-top-color: var(--fill-color);\n",
              "    }\n",
              "    60% {\n",
              "      border-color: transparent;\n",
              "      border-right-color: var(--fill-color);\n",
              "    }\n",
              "    80% {\n",
              "      border-color: transparent;\n",
              "      border-right-color: var(--fill-color);\n",
              "      border-bottom-color: var(--fill-color);\n",
              "    }\n",
              "    90% {\n",
              "      border-color: transparent;\n",
              "      border-bottom-color: var(--fill-color);\n",
              "    }\n",
              "  }\n",
              "</style>\n",
              "\n",
              "  <script>\n",
              "    async function quickchart(key) {\n",
              "      const quickchartButtonEl =\n",
              "        document.querySelector('#' + key + ' button');\n",
              "      quickchartButtonEl.disabled = true;  // To prevent multiple clicks.\n",
              "      quickchartButtonEl.classList.add('colab-df-spinner');\n",
              "      try {\n",
              "        const charts = await google.colab.kernel.invokeFunction(\n",
              "            'suggestCharts', [key], {});\n",
              "      } catch (error) {\n",
              "        console.error('Error during call to suggestCharts:', error);\n",
              "      }\n",
              "      quickchartButtonEl.classList.remove('colab-df-spinner');\n",
              "      quickchartButtonEl.classList.add('colab-df-quickchart-complete');\n",
              "    }\n",
              "    (() => {\n",
              "      let quickchartButtonEl =\n",
              "        document.querySelector('#df-5469eb6f-6187-455c-a5d7-3b73732e4d96 button');\n",
              "      quickchartButtonEl.style.display =\n",
              "        google.colab.kernel.accessAllowed ? 'block' : 'none';\n",
              "    })();\n",
              "  </script>\n",
              "</div>\n",
              "\n",
              "    </div>\n",
              "  </div>\n"
            ],
            "application/vnd.google.colaboratory.intrinsic+json": {
              "type": "dataframe",
              "variable_name": "merged",
              "summary": "{\n  \"name\": \"merged\",\n  \"rows\": 2647,\n  \"fields\": [\n    {\n      \"column\": \"Brand\",\n      \"properties\": {\n        \"dtype\": \"category\",\n        \"num_unique_values\": 16,\n        \"samples\": [\n          \"OPPO\",\n          \"HTC\",\n          \"ASUS\"\n        ],\n        \"semantic_type\": \"\",\n        \"description\": \"\"\n      }\n    },\n    {\n      \"column\": \"Model\",\n      \"properties\": {\n        \"dtype\": \"category\",\n        \"num_unique_values\": 775,\n        \"samples\": [\n          \"S20 FE 5G \",\n          \"Y20A \",\n          \"105 DS\"\n        ],\n        \"semantic_type\": \"\",\n        \"description\": \"\"\n      }\n    },\n    {\n      \"column\": \"Color\",\n      \"properties\": {\n        \"dtype\": \"category\",\n        \"num_unique_values\": 525,\n        \"samples\": [\n          \"Prism Crush Red\",\n          \"Bronze Gold\",\n          \"Flowing Silver\"\n        ],\n        \"semantic_type\": \"\",\n        \"description\": \"\"\n      }\n    },\n    {\n      \"column\": \"Memory\",\n      \"properties\": {\n        \"dtype\": \"category\",\n        \"num_unique_values\": 27,\n        \"samples\": [\n          \"1.5 GB\",\n          \"64 MB\",\n          \"768 MB\"\n        ],\n        \"semantic_type\": \"\",\n        \"description\": \"\"\n      }\n    },\n    {\n      \"column\": \"Storage\",\n      \"properties\": {\n        \"dtype\": \"category\",\n        \"num_unique_values\": 25,\n        \"samples\": [\n          \"16 MB\",\n          \"10 MB\",\n          \"64 GB\"\n        ],\n        \"semantic_type\": \"\",\n        \"description\": \"\"\n      }\n    },\n    {\n      \"column\": \"Rating\",\n      \"properties\": {\n        \"dtype\": \"number\",\n        \"std\": 0.393148353585827,\n        \"min\": 0.0,\n        \"max\": 5.0,\n        \"num_unique_values\": 24,\n        \"samples\": [\n          4.1,\n          3.5,\n          4.5\n        ],\n        \"semantic_type\": \"\",\n        \"description\": \"\"\n      }\n    },\n    {\n      \"column\": \"Selling Price\",\n      \"properties\": {\n        \"dtype\": \"number\",\n        \"std\": 29826.530502877053,\n        \"min\": 1000.0,\n        \"max\": 179900.0,\n        \"num_unique_values\": 784,\n        \"samples\": [\n          61900.0,\n          2940.0,\n          8285.0\n        ],\n        \"semantic_type\": \"\",\n        \"description\": \"\"\n      }\n    },\n    {\n      \"column\": \"Original Price\",\n      \"properties\": {\n        \"dtype\": \"number\",\n        \"std\": 32805.44432372388,\n        \"min\": 1000.0,\n        \"max\": 189999.0,\n        \"num_unique_values\": 708,\n        \"samples\": [\n          12950.0,\n          6450.0,\n          1500.0\n        ],\n        \"semantic_type\": \"\",\n        \"description\": \"\"\n      }\n    }\n  ]\n}"
            }
          },
          "metadata": {},
          "execution_count": 46
        }
      ]
    },
    {
      "cell_type": "markdown",
      "source": [],
      "metadata": {
        "id": "4wrGjCv4BxiA"
      }
    },
    {
      "cell_type": "markdown",
      "source": [
        "# EDA\n"
      ],
      "metadata": {
        "id": "9YAN55tkkAQ_"
      }
    },
    {
      "cell_type": "markdown",
      "source": [
        "Visualizations"
      ],
      "metadata": {
        "id": "6VTzrmm-kEEM"
      }
    },
    {
      "cell_type": "code",
      "source": [
        "#Specify the column you want to plot\n",
        "x_column = 'Original Price'\n",
        "y_column = 'Selling Price'\n",
        "#Create a Scatter Plot\n",
        "plt.scatter(merged[x_column],merged[y_column])\n",
        "plt.xlabel(x_column)\n",
        "plt.ylabel(y_column)\n",
        "plt.title('Scatter Plot of {} vs {}'.format(x_column,y_column))\n",
        "plt.show()\n",
        "\n",
        "\n"
      ],
      "metadata": {
        "colab": {
          "base_uri": "https://localhost:8080/",
          "height": 472
        },
        "id": "XYMR_jGdkKPL",
        "outputId": "7400196b-a3c2-4778-e36a-97604a842cf2"
      },
      "execution_count": null,
      "outputs": [
        {
          "output_type": "display_data",
          "data": {
            "text/plain": [
              "<Figure size 640x480 with 1 Axes>"
            ],
            "image/png": "[encoded data removed]"
          },
          "metadata": {}
        }
      ]
    },
    {
      "cell_type": "markdown",
      "source": [
        "BOX PLOT"
      ],
      "metadata": {
        "id": "fLGySFQ820rv"
      }
    },
    {
      "cell_type": "code",
      "source": [
        "import matplotlib.pyplot as plt\n",
        "\n",
        "# Specify the column you want to plot\n",
        "x_column = 'Original Price'\n",
        "y_column = 'Selling Price'\n",
        "\n",
        "# Create a Box Plot\n",
        "plt.boxplot([dataset2[x_column], dataset2[y_column]])\n",
        "plt.xlabel('Variables')\n",
        "plt.ylabel('Values')\n",
        "plt.title('Box Plot of {} and {}'.format(x_column, y_column))\n",
        "plt.xticks([1, 2], [x_column, y_column])\n",
        "plt.show()\n"
      ],
      "metadata": {
        "colab": {
          "base_uri": "https://localhost:8080/",
          "height": 472
        },
        "id": "liw5am9gzWu4",
        "outputId": "74853037-7c2f-426a-872a-e5e0141501e6"
      },
      "execution_count": null,
      "outputs": [
        {
          "output_type": "display_data",
          "data": {
            "text/plain": [
              "<Figure size 640x480 with 1 Axes>"
            ],
            "image/png": "[encoded data removed]"
          },
          "metadata": {}
        }
      ]
    },
    {
      "cell_type": "markdown",
      "source": [
        "HISTOGRAM"
      ],
      "metadata": {
        "id": "4S_xZ6lm2y0P"
      }
    },
    {
      "cell_type": "code",
      "source": [
        "import matplotlib.pyplot as plt\n",
        "\n",
        "# Specify the column you want to plot\n",
        "x_column = 'Original Price'\n",
        "y_column = 'Selling Price'\n",
        "\n",
        "# Create a Histogram for Original Price\n",
        "plt.figure(figsize=(10, 5))\n",
        "plt.subplot(1, 2, 1)\n",
        "plt.hist(dataset2[x_column], bins=20, color='skyblue', edgecolor='black')\n",
        "plt.xlabel(x_column)\n",
        "plt.ylabel('Frequency')\n",
        "plt.title('Histogram of {}'.format(x_column))\n",
        "\n",
        "# Create a Histogram for Selling Price\n",
        "plt.subplot(1, 2, 2)\n",
        "plt.hist(dataset2[y_column], bins=20, color='salmon', edgecolor='black')\n",
        "plt.xlabel(y_column)\n",
        "plt.ylabel('Frequency')\n",
        "plt.title('Histogram of {}'.format(y_column))\n",
        "\n",
        "plt.tight_layout()\n",
        "plt.show()\n"
      ],
      "metadata": {
        "colab": {
          "base_uri": "https://localhost:8080/",
          "height": 334
        },
        "id": "UArC6McA2uZw",
        "outputId": "55ef2d15-8cd7-4b1b-a44a-608caa434646"
      },
      "execution_count": null,
      "outputs": [
        {
          "output_type": "display_data",
          "data": {
            "text/plain": [
              "<Figure size 1000x500 with 2 Axes>"
            ],
            "image/png": "[encoded data removed]"
          },
          "metadata": {}
        }
      ]
    },
    {
      "cell_type": "markdown",
      "source": [
        "HEAP MAP"
      ],
      "metadata": {
        "id": "Xhi1llFt3AOH"
      }
    },
    {
      "cell_type": "code",
      "source": [
        "import seaborn as sns\n",
        "import matplotlib.pyplot as plt\n",
        "\n",
        "# Assuming you have a DataFrame named dataset2 containing the data\n",
        "\n",
        "# Selecting relevant columns\n",
        "columns = ['Original Price', 'Selling Price']\n",
        "\n",
        "# Creating a heatmap\n",
        "plt.figure(figsize=(8, 6))\n",
        "sns.heatmap(dataset2[columns].corr(), annot=True, cmap='coolwarm', linewidths=0.5)\n",
        "plt.title('Heatmap of Correlation Between {} and {}'.format(columns[0], columns[1]))\n",
        "plt.show()\n"
      ],
      "metadata": {
        "colab": {
          "base_uri": "https://localhost:8080/",
          "height": 541
        },
        "id": "yqW6rhNa3B05",
        "outputId": "b46b8112-d6e5-484e-a5b7-b1c32c5de2e2"
      },
      "execution_count": null,
      "outputs": [
        {
          "output_type": "display_data",
          "data": {
            "text/plain": [
              "<Figure size 800x600 with 2 Axes>"
            ],
            "image/png": "[encoded data removed]"
          },
          "metadata": {}
        }
      ]
    }
  ]
}